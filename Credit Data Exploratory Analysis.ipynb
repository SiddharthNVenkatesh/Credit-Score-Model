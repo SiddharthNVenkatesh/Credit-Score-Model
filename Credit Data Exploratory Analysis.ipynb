{
 "cells": [
  {
   "cell_type": "markdown",
   "id": "ce7917dd",
   "metadata": {},
   "source": [
    "### Exploratory Analysis on data linking demographics and financial status to credit history."
   ]
  },
  {
   "cell_type": "markdown",
   "id": "713fdf69",
   "metadata": {},
   "source": [
    "Dataset and explanation of dataset is available from [this Kaggle page](https://www.kaggle.com/rikdifos/credit-card-approval-prediction)."
   ]
  },
  {
   "cell_type": "code",
   "execution_count": 3,
   "id": "6b284a10",
   "metadata": {},
   "outputs": [],
   "source": [
    "import sys\n",
    "import pickle\n",
    "import itertools\n",
    "import pandas as pd\n",
    "import numpy as np\n",
    "from matplotlib import pyplot as plt\n",
    "import seaborn as sns\n",
    "import sklearn"
   ]
  },
  {
   "cell_type": "markdown",
   "id": "a0e78e61",
   "metadata": {},
   "source": [
    "Let's begin by loading our two dataframes."
   ]
  },
  {
   "cell_type": "code",
   "execution_count": 95,
   "id": "69c19473",
   "metadata": {},
   "outputs": [],
   "source": [
    "with open(\"application_record.csv\", \"r\") as app_data:\n",
    "    app_df = pd.read_csv(app_data)\n",
    "    "
   ]
  },
  {
   "cell_type": "code",
   "execution_count": 130,
   "id": "2c19d5dd",
   "metadata": {},
   "outputs": [
    {
     "name": "stdout",
     "output_type": "stream",
     "text": [
      "             ID CODE_GENDER FLAG_OWN_CAR FLAG_OWN_REALTY  CNT_CHILDREN  \\\n",
      "0       5008804           M            Y               Y             0   \n",
      "1       5008805           M            Y               Y             0   \n",
      "2       5008806           M            Y               Y             0   \n",
      "3       5008808           F            N               Y             0   \n",
      "4       5008809           F            N               Y             0   \n",
      "...         ...         ...          ...             ...           ...   \n",
      "438552  6840104           M            N               Y             0   \n",
      "438553  6840222           F            N               N             0   \n",
      "438554  6841878           F            N               N             0   \n",
      "438555  6842765           F            N               Y             0   \n",
      "438556  6842885           F            N               Y             0   \n",
      "\n",
      "        AMT_INCOME_TOTAL      NAME_INCOME_TYPE            NAME_EDUCATION_TYPE  \\\n",
      "0               427500.0               Working               Higher education   \n",
      "1               427500.0               Working               Higher education   \n",
      "2               112500.0               Working  Secondary / secondary special   \n",
      "3               270000.0  Commercial associate  Secondary / secondary special   \n",
      "4               270000.0  Commercial associate  Secondary / secondary special   \n",
      "...                  ...                   ...                            ...   \n",
      "438552          135000.0             Pensioner  Secondary / secondary special   \n",
      "438553          103500.0               Working  Secondary / secondary special   \n",
      "438554           54000.0  Commercial associate               Higher education   \n",
      "438555           72000.0             Pensioner  Secondary / secondary special   \n",
      "438556          121500.0               Working  Secondary / secondary special   \n",
      "\n",
      "          NAME_FAMILY_STATUS  NAME_HOUSING_TYPE  DAYS_BIRTH  DAYS_EMPLOYED  \\\n",
      "0             Civil marriage   Rented apartment      -12005          -4542   \n",
      "1             Civil marriage   Rented apartment      -12005          -4542   \n",
      "2                    Married  House / apartment      -21474          -1134   \n",
      "3       Single / not married  House / apartment      -19110          -3051   \n",
      "4       Single / not married  House / apartment      -19110          -3051   \n",
      "...                      ...                ...         ...            ...   \n",
      "438552             Separated  House / apartment      -22717         365243   \n",
      "438553  Single / not married  House / apartment      -15939          -3007   \n",
      "438554  Single / not married       With parents       -8169           -372   \n",
      "438555               Married  House / apartment      -21673         365243   \n",
      "438556               Married  House / apartment      -18858          -1201   \n",
      "\n",
      "        FLAG_MOBIL  FLAG_WORK_PHONE  FLAG_PHONE  FLAG_EMAIL OCCUPATION_TYPE  \\\n",
      "0                1                1           0           0             NaN   \n",
      "1                1                1           0           0             NaN   \n",
      "2                1                0           0           0  Security staff   \n",
      "3                1                0           1           1     Sales staff   \n",
      "4                1                0           1           1     Sales staff   \n",
      "...            ...              ...         ...         ...             ...   \n",
      "438552           1                0           0           0             NaN   \n",
      "438553           1                0           0           0        Laborers   \n",
      "438554           1                1           0           0     Sales staff   \n",
      "438555           1                0           0           0             NaN   \n",
      "438556           1                0           1           0     Sales staff   \n",
      "\n",
      "        CNT_FAM_MEMBERS  \n",
      "0                   2.0  \n",
      "1                   2.0  \n",
      "2                   2.0  \n",
      "3                   1.0  \n",
      "4                   1.0  \n",
      "...                 ...  \n",
      "438552              1.0  \n",
      "438553              1.0  \n",
      "438554              1.0  \n",
      "438555              2.0  \n",
      "438556              2.0  \n",
      "\n",
      "[438557 rows x 18 columns]\n",
      "438557\n"
     ]
    }
   ],
   "source": [
    "print(app_df)"
   ]
  },
  {
   "cell_type": "code",
   "execution_count": 97,
   "id": "a3b7b83f",
   "metadata": {},
   "outputs": [],
   "source": [
    "with open(\"credit_record.csv\", \"r\") as credit_data:\n",
    "    credit_df = pd.read_csv(credit_data)"
   ]
  },
  {
   "cell_type": "code",
   "execution_count": 98,
   "id": "8456470a",
   "metadata": {},
   "outputs": [
    {
     "name": "stdout",
     "output_type": "stream",
     "text": [
      "              ID  MONTHS_BALANCE STATUS\n",
      "0        5001711               0      X\n",
      "1        5001711              -1      0\n",
      "2        5001711              -2      0\n",
      "3        5001711              -3      0\n",
      "4        5001712               0      C\n",
      "...          ...             ...    ...\n",
      "1048570  5150487             -25      C\n",
      "1048571  5150487             -26      C\n",
      "1048572  5150487             -27      C\n",
      "1048573  5150487             -28      C\n",
      "1048574  5150487             -29      C\n",
      "\n",
      "[1048575 rows x 3 columns]\n"
     ]
    }
   ],
   "source": [
    "print(credit_df)"
   ]
  },
  {
   "cell_type": "markdown",
   "id": "75dedd17",
   "metadata": {},
   "source": [
    "Notice that the application data has duplicates, the ID key doesn't uniquely identify a customer. We need to identify the cause of the duplication. It is possible these are multiple accounts for the same peron, and it is also possible these multiple accounts have different credit histories. To account for this, we create some functions that help us identify duplicate data. We first create a function that takes an index and returns all duplicates below it in the dataframe, assuming contiguous duplicates. We also create a function that returns the next index that isn't a duplicate of the given one. This is mostly for testing purposes. "
   ]
  },
  {
   "cell_type": "code",
   "execution_count": 100,
   "id": "dbcfdaf4",
   "metadata": {},
   "outputs": [],
   "source": [
    "def DuplicateList(df, index, col_list):\n",
    "    '''Parameters are a pandas dataframe, an index number and a list of column numbers. \n",
    "       Returns a list of all index values greater than the input index that have identical data under the given columns.\n",
    "       Assumes the duplicated data in the dataframe is contiguous.'''\n",
    "    \n",
    "    Duplicates = []\n",
    "    df_null = df.isnull()\n",
    "    #Testing if the latest entry checked was a duplicate.\n",
    "    is_Latest_Dupe = True\n",
    "    for i in [x for x in df.index.values if x > index]:\n",
    "        if is_Latest_Dupe:\n",
    "            Dupe_Status = True\n",
    "            for col in col_list:\n",
    "                if df_null.iloc[index, col] and df_null.iloc[i, col]:\n",
    "                    Dupe_Status=Dupe_Status\n",
    "                else: \n",
    "                    Dupe_Status = Dupe_Status and (df.iloc[index, col]==df.iloc[i, col])\n",
    "            if Dupe_Status:\n",
    "                Duplicates.append(i)\n",
    "            is_Latest_Dupe = is_Latest_Dupe and Dupe_Status\n",
    "        elif not is_Latest_Dupe:\n",
    "            break\n",
    "    \n",
    "    return Duplicates"
   ]
  },
  {
   "cell_type": "markdown",
   "id": "c75e8875",
   "metadata": {},
   "source": [
    "Let's test this on some of the values we can see in our dataframe. "
   ]
  },
  {
   "cell_type": "code",
   "execution_count": 101,
   "id": "f40118df",
   "metadata": {
    "scrolled": false
   },
   "outputs": [
    {
     "name": "stdout",
     "output_type": "stream",
     "text": [
      "[1]\n"
     ]
    }
   ],
   "source": [
    "print(DuplicateList(df=app_df, index=0, col_list = range(1, len(app_df.columns.values))))"
   ]
  },
  {
   "cell_type": "code",
   "execution_count": 116,
   "id": "182117a4",
   "metadata": {},
   "outputs": [
    {
     "name": "stdout",
     "output_type": "stream",
     "text": [
      "[]\n",
      "[4, 5, 6]\n",
      "[5, 6]\n",
      "[]\n",
      "[]\n",
      "[1316, 1317]\n",
      "           ID CODE_GENDER FLAG_OWN_CAR FLAG_OWN_REALTY  CNT_CHILDREN  \\\n",
      "1315  5010298           F            N               Y             0   \n",
      "1316  5010299           F            N               Y             0   \n",
      "\n",
      "      AMT_INCOME_TOTAL      NAME_INCOME_TYPE            NAME_EDUCATION_TYPE  \\\n",
      "1315          135000.0  Commercial associate  Secondary / secondary special   \n",
      "1316          135000.0  Commercial associate  Secondary / secondary special   \n",
      "\n",
      "     NAME_FAMILY_STATUS  NAME_HOUSING_TYPE  DAYS_BIRTH  DAYS_EMPLOYED  \\\n",
      "1315            Married  House / apartment      -14918          -1866   \n",
      "1316            Married  House / apartment      -14918          -1866   \n",
      "\n",
      "      FLAG_MOBIL  FLAG_WORK_PHONE  FLAG_PHONE  FLAG_EMAIL OCCUPATION_TYPE  \\\n",
      "1315           1                0           0           0     Sales staff   \n",
      "1316           1                0           0           0     Sales staff   \n",
      "\n",
      "      CNT_FAM_MEMBERS  \n",
      "1315              2.0  \n",
      "1316              2.0  \n"
     ]
    }
   ],
   "source": [
    "for i in [2, 3, 4, 438552, 438556]:\n",
    "    print(DuplicateList(df=app_df, index=i, col_list = range(1, len(app_df.columns.values))))\n",
    "print(DuplicateList(app_df, index=1315, col_list=range(1, len(app_df.columns.values))))\n",
    "print(app_df.iloc[[1315, 1316],:])"
   ]
  },
  {
   "cell_type": "code",
   "execution_count": 148,
   "id": "590a74c6",
   "metadata": {},
   "outputs": [],
   "source": [
    "def NextNonDuplicate(df, index, col_list):\n",
    "    '''Arguments are a dataframe with contiguous duplicate data, an index value and list of columns to compare\n",
    "        for duplication.\n",
    "       Returns the index of the next datapoint that isn\\'t a duplicate of the data at index.'''\n",
    "    if index <0:\n",
    "        index = len(df.index.values)+index\n",
    "    if index >=len(df.index.values)-1:\n",
    "        return None\n",
    "    if not DuplicateList(df, index, col_list):\n",
    "        return index + 1\n",
    "    elif DuplicateList(df, index, col_list)[-1] >= len(df.index.values)-1:\n",
    "        return None\n",
    "    else:\n",
    "        return DuplicateList(df, index, col_list)[-1]+1\n",
    "\n"
   ]
  },
  {
   "cell_type": "markdown",
   "id": "fecf1c66",
   "metadata": {},
   "source": [
    "We can now use the drop_duplicates method in pandas to remove duplicates from app_df, but this would create some issues. The account id's in the application data are linked to the account id's in the credit data. If we remove duplicates first, we will potentially lose information. Instead, we will adopt a different strategy. We identify the accounts that are in both dataframes and only condense each dataframe to those accounts for which we have both application data and credit data. This is a natural procedure to make here, as these are the only data points we can actually use to fit a model, as for other accounts, we either lack feature data or data to construct a label. "
   ]
  }
 ],
 "metadata": {
  "kernelspec": {
   "display_name": "Python 3",
   "language": "python",
   "name": "python3"
  },
  "language_info": {
   "codemirror_mode": {
    "name": "ipython",
    "version": 3
   },
   "file_extension": ".py",
   "mimetype": "text/x-python",
   "name": "python",
   "nbconvert_exporter": "python",
   "pygments_lexer": "ipython3",
   "version": "3.8.8"
  }
 },
 "nbformat": 4,
 "nbformat_minor": 5
}
