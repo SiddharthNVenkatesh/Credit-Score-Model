{
 "cells": [
  {
   "cell_type": "markdown",
   "id": "440e2fd2",
   "metadata": {},
   "source": [
    "## In this notebook, I analyze [this Kaggle dataset](https://www.kaggle.com/rikdifos/credit-card-approval-prediction). The dataset consists of demographic and financial data for accounts at a bank (unspecified) along with a credit history of that account. The same customer at the bank may have multiple accounts attached to them. The goal of the notebook is to clean up the data and construct a label for each customer using all of their accounts as good or bad credit. This notebook will later be used to build a model to predict the credit score of customers using their demographic and financial data, to quantify the risk of opening a credit account."
   ]
  },
  {
   "cell_type": "markdown",
   "id": "4c7dfbaa",
   "metadata": {},
   "source": [
    "### Data Cleaning"
   ]
  },
  {
   "cell_type": "code",
   "execution_count": 311,
   "id": "6b284a10",
   "metadata": {},
   "outputs": [],
   "source": [
    "import sys\n",
    "import time\n",
    "import pickle\n",
    "import itertools\n",
    "import pandas as pd\n",
    "import numpy as np\n",
    "from matplotlib import pyplot as plt\n",
    "import seaborn as sns\n",
    "import sklearn"
   ]
  },
  {
   "cell_type": "markdown",
   "id": "9aeb608d",
   "metadata": {},
   "source": [
    "Let's begin by loading our two dataframes."
   ]
  },
  {
   "cell_type": "code",
   "execution_count": 95,
   "id": "69c19473",
   "metadata": {},
   "outputs": [],
   "source": [
    "with open(\"application_record.csv\", \"r\") as app_data:\n",
    "    app_df = pd.read_csv(app_data)\n",
    "    "
   ]
  },
  {
   "cell_type": "code",
   "execution_count": 130,
   "id": "1b5d806d",
   "metadata": {},
   "outputs": [
    {
     "name": "stdout",
     "output_type": "stream",
     "text": [
      "             ID CODE_GENDER FLAG_OWN_CAR FLAG_OWN_REALTY  CNT_CHILDREN  \\\n",
      "0       5008804           M            Y               Y             0   \n",
      "1       5008805           M            Y               Y             0   \n",
      "2       5008806           M            Y               Y             0   \n",
      "3       5008808           F            N               Y             0   \n",
      "4       5008809           F            N               Y             0   \n",
      "...         ...         ...          ...             ...           ...   \n",
      "438552  6840104           M            N               Y             0   \n",
      "438553  6840222           F            N               N             0   \n",
      "438554  6841878           F            N               N             0   \n",
      "438555  6842765           F            N               Y             0   \n",
      "438556  6842885           F            N               Y             0   \n",
      "\n",
      "        AMT_INCOME_TOTAL      NAME_INCOME_TYPE            NAME_EDUCATION_TYPE  \\\n",
      "0               427500.0               Working               Higher education   \n",
      "1               427500.0               Working               Higher education   \n",
      "2               112500.0               Working  Secondary / secondary special   \n",
      "3               270000.0  Commercial associate  Secondary / secondary special   \n",
      "4               270000.0  Commercial associate  Secondary / secondary special   \n",
      "...                  ...                   ...                            ...   \n",
      "438552          135000.0             Pensioner  Secondary / secondary special   \n",
      "438553          103500.0               Working  Secondary / secondary special   \n",
      "438554           54000.0  Commercial associate               Higher education   \n",
      "438555           72000.0             Pensioner  Secondary / secondary special   \n",
      "438556          121500.0               Working  Secondary / secondary special   \n",
      "\n",
      "          NAME_FAMILY_STATUS  NAME_HOUSING_TYPE  DAYS_BIRTH  DAYS_EMPLOYED  \\\n",
      "0             Civil marriage   Rented apartment      -12005          -4542   \n",
      "1             Civil marriage   Rented apartment      -12005          -4542   \n",
      "2                    Married  House / apartment      -21474          -1134   \n",
      "3       Single / not married  House / apartment      -19110          -3051   \n",
      "4       Single / not married  House / apartment      -19110          -3051   \n",
      "...                      ...                ...         ...            ...   \n",
      "438552             Separated  House / apartment      -22717         365243   \n",
      "438553  Single / not married  House / apartment      -15939          -3007   \n",
      "438554  Single / not married       With parents       -8169           -372   \n",
      "438555               Married  House / apartment      -21673         365243   \n",
      "438556               Married  House / apartment      -18858          -1201   \n",
      "\n",
      "        FLAG_MOBIL  FLAG_WORK_PHONE  FLAG_PHONE  FLAG_EMAIL OCCUPATION_TYPE  \\\n",
      "0                1                1           0           0             NaN   \n",
      "1                1                1           0           0             NaN   \n",
      "2                1                0           0           0  Security staff   \n",
      "3                1                0           1           1     Sales staff   \n",
      "4                1                0           1           1     Sales staff   \n",
      "...            ...              ...         ...         ...             ...   \n",
      "438552           1                0           0           0             NaN   \n",
      "438553           1                0           0           0        Laborers   \n",
      "438554           1                1           0           0     Sales staff   \n",
      "438555           1                0           0           0             NaN   \n",
      "438556           1                0           1           0     Sales staff   \n",
      "\n",
      "        CNT_FAM_MEMBERS  \n",
      "0                   2.0  \n",
      "1                   2.0  \n",
      "2                   2.0  \n",
      "3                   1.0  \n",
      "4                   1.0  \n",
      "...                 ...  \n",
      "438552              1.0  \n",
      "438553              1.0  \n",
      "438554              1.0  \n",
      "438555              2.0  \n",
      "438556              2.0  \n",
      "\n",
      "[438557 rows x 18 columns]\n",
      "438557\n"
     ]
    }
   ],
   "source": [
    "print(app_df)"
   ]
  },
  {
   "cell_type": "code",
   "execution_count": 97,
   "id": "f4219f48",
   "metadata": {},
   "outputs": [],
   "source": [
    "with open(\"credit_record.csv\", \"r\") as credit_data:\n",
    "    credit_df = pd.read_csv(credit_data)"
   ]
  },
  {
   "cell_type": "code",
   "execution_count": 98,
   "id": "d71b8cf0",
   "metadata": {},
   "outputs": [
    {
     "name": "stdout",
     "output_type": "stream",
     "text": [
      "              ID  MONTHS_BALANCE STATUS\n",
      "0        5001711               0      X\n",
      "1        5001711              -1      0\n",
      "2        5001711              -2      0\n",
      "3        5001711              -3      0\n",
      "4        5001712               0      C\n",
      "...          ...             ...    ...\n",
      "1048570  5150487             -25      C\n",
      "1048571  5150487             -26      C\n",
      "1048572  5150487             -27      C\n",
      "1048573  5150487             -28      C\n",
      "1048574  5150487             -29      C\n",
      "\n",
      "[1048575 rows x 3 columns]\n"
     ]
    }
   ],
   "source": [
    "print(credit_df)"
   ]
  },
  {
   "cell_type": "markdown",
   "id": "da0ca823",
   "metadata": {},
   "source": [
    "Let us see if the ID keys are all unique. If so, we want to change the index to correspond to the ID key. This will save time on later computations. "
   ]
  },
  {
   "cell_type": "code",
   "execution_count": 323,
   "id": "1deec4f3",
   "metadata": {},
   "outputs": [
    {
     "name": "stdout",
     "output_type": "stream",
     "text": [
      "438510\n"
     ]
    }
   ],
   "source": [
    "print(len(set(app_df[\"ID\"])))"
   ]
  },
  {
   "cell_type": "markdown",
   "id": "dd315c77",
   "metadata": {},
   "source": [
    "This is a bit unfortunate, as we have duplicate id's. We need to check if the duplicate ids have the same remaining data."
   ]
  },
  {
   "cell_type": "code",
   "execution_count": 332,
   "id": "e5554424",
   "metadata": {},
   "outputs": [
    {
     "name": "stdout",
     "output_type": "stream",
     "text": [
      "             ID CODE_GENDER FLAG_OWN_CAR FLAG_OWN_REALTY  CNT_CHILDREN  \\\n",
      "421211  7702516           F            N               Y             2   \n",
      "421268  7602432           M            N               Y             0   \n",
      "421349  7602432           F            N               N             0   \n",
      "421464  7836971           M            Y               N             1   \n",
      "421698  7213374           M            Y               N             0   \n",
      "...         ...         ...          ...             ...           ...   \n",
      "433158  7282535           F            N               Y             0   \n",
      "433159  7742853           M            N               Y             0   \n",
      "433217  7135270           F            N               Y             0   \n",
      "433666  7091721           F            Y               Y             0   \n",
      "433789  7618285           F            N               Y             0   \n",
      "\n",
      "        AMT_INCOME_TOTAL      NAME_INCOME_TYPE            NAME_EDUCATION_TYPE  \\\n",
      "421211          180000.0               Working  Secondary / secondary special   \n",
      "421268          315000.0  Commercial associate               Higher education   \n",
      "421349          117000.0             Pensioner               Higher education   \n",
      "421464          157500.0               Working  Secondary / secondary special   \n",
      "421698          148500.0               Working  Secondary / secondary special   \n",
      "...                  ...                   ...                            ...   \n",
      "433158           63000.0             Pensioner  Secondary / secondary special   \n",
      "433159          157500.0               Working  Secondary / secondary special   \n",
      "433217          216000.0             Pensioner  Secondary / secondary special   \n",
      "433666           90000.0  Commercial associate  Secondary / secondary special   \n",
      "433789          157500.0               Working  Secondary / secondary special   \n",
      "\n",
      "          NAME_FAMILY_STATUS  NAME_HOUSING_TYPE  DAYS_BIRTH  DAYS_EMPLOYED  \\\n",
      "421211               Married  House / apartment      -11753          -1256   \n",
      "421268        Civil marriage  House / apartment      -16627          -1304   \n",
      "421349               Married  House / apartment      -24708         365243   \n",
      "421464               Married  House / apartment      -13771          -5520   \n",
      "421698               Married  House / apartment       -9950           -961   \n",
      "...                      ...                ...         ...            ...   \n",
      "433158               Married  House / apartment      -21124         365243   \n",
      "433159  Single / not married  House / apartment      -15052          -1695   \n",
      "433217               Married  House / apartment      -23113         365243   \n",
      "433666               Married  House / apartment      -14116          -2269   \n",
      "433789  Single / not married  House / apartment      -10113          -1007   \n",
      "\n",
      "        FLAG_MOBIL  FLAG_WORK_PHONE  FLAG_PHONE  FLAG_EMAIL OCCUPATION_TYPE  \\\n",
      "421211           1                1           1           0     Sales staff   \n",
      "421268           1                0           1           0         Drivers   \n",
      "421349           1                0           0           0             NaN   \n",
      "421464           1                0           0           0             NaN   \n",
      "421698           1                0           1           0        Laborers   \n",
      "...            ...              ...         ...         ...             ...   \n",
      "433158           1                0           1           0             NaN   \n",
      "433159           1                0           0           0        Laborers   \n",
      "433217           1                0           0           0             NaN   \n",
      "433666           1                0           0           0  Medicine staff   \n",
      "433789           1                0           0           0        Laborers   \n",
      "\n",
      "        CNT_FAM_MEMBERS  \n",
      "421211              4.0  \n",
      "421268              2.0  \n",
      "421349              2.0  \n",
      "421464              3.0  \n",
      "421698              2.0  \n",
      "...                 ...  \n",
      "433158              2.0  \n",
      "433159              1.0  \n",
      "433217              2.0  \n",
      "433666              2.0  \n",
      "433789              1.0  \n",
      "\n",
      "[94 rows x 18 columns]\n"
     ]
    }
   ],
   "source": [
    "app_df_duplicate_id = app_df.duplicated(subset=\"ID\", keep=False)\n",
    "\n",
    "print(app_df[app_df_duplicate_id])"
   ]
  },
  {
   "cell_type": "markdown",
   "id": "271ebf67",
   "metadata": {},
   "source": [
    "There doesn't seem to be a particularly strong pattern between accounts tied to the same id. It is possible these are joint accounts but the demographic data doesn't really line up. We also don't have any indication from the dataset on how these id's are linked to the corresponding id in the credit dataframe. Fortuantely, we don't have many duplicates of this type, so we can just remove them from the dataset. "
   ]
  },
  {
   "cell_type": "code",
   "execution_count": 474,
   "id": "cfc4bcda",
   "metadata": {},
   "outputs": [],
   "source": [
    "app_df = app_df.drop_duplicates(subset=\"ID\", keep=False)"
   ]
  },
  {
   "cell_type": "markdown",
   "id": "8115feb0",
   "metadata": {},
   "source": [
    "Notice that we have yet another issue with duplicates: the same customers seem to have multiple account id's. We need to identify the cause of the duplication. It is possible these are multiple accounts for the same peron, and it is also possible these multiple accounts have different credit histories. We're going to collect all accounts with identical applicaton data together to then see how they behave in the credit. But before we do so, we will reduce both the application dataframe and the credit dataframe to just their intersections along the ID key. Additionaly, to make things easier, we will fill in values for null values in the application dataframe."
   ]
  },
  {
   "cell_type": "code",
   "execution_count": 467,
   "id": "0b1a20ce",
   "metadata": {},
   "outputs": [
    {
     "name": "stdout",
     "output_type": "stream",
     "text": [
      "             ID CODE_GENDER FLAG_OWN_CAR FLAG_OWN_REALTY  CNT_CHILDREN  \\\n",
      "0       5008804           M            Y               Y             0   \n",
      "1       5008805           M            Y               Y             0   \n",
      "2       5008806           M            Y               Y             0   \n",
      "3       5008808           F            N               Y             0   \n",
      "4       5008809           F            N               Y             0   \n",
      "...         ...         ...          ...             ...           ...   \n",
      "434808  5149828           M            Y               Y             0   \n",
      "434809  5149834           F            N               Y             0   \n",
      "434810  5149838           F            N               Y             0   \n",
      "434811  5150049           F            N               Y             0   \n",
      "434812  5150337           M            N               Y             0   \n",
      "\n",
      "        AMT_INCOME_TOTAL      NAME_INCOME_TYPE            NAME_EDUCATION_TYPE  \\\n",
      "0               427500.0               Working               Higher education   \n",
      "1               427500.0               Working               Higher education   \n",
      "2               112500.0               Working  Secondary / secondary special   \n",
      "3               270000.0  Commercial associate  Secondary / secondary special   \n",
      "4               270000.0  Commercial associate  Secondary / secondary special   \n",
      "...                  ...                   ...                            ...   \n",
      "434808          315000.0               Working  Secondary / secondary special   \n",
      "434809          157500.0  Commercial associate               Higher education   \n",
      "434810          157500.0             Pensioner               Higher education   \n",
      "434811          283500.0               Working  Secondary / secondary special   \n",
      "434812          112500.0               Working  Secondary / secondary special   \n",
      "\n",
      "          NAME_FAMILY_STATUS  NAME_HOUSING_TYPE  DAYS_BIRTH  DAYS_EMPLOYED  \\\n",
      "0             Civil marriage   Rented apartment      -12005          -4542   \n",
      "1             Civil marriage   Rented apartment      -12005          -4542   \n",
      "2                    Married  House / apartment      -21474          -1134   \n",
      "3       Single / not married  House / apartment      -19110          -3051   \n",
      "4       Single / not married  House / apartment      -19110          -3051   \n",
      "...                      ...                ...         ...            ...   \n",
      "434808               Married  House / apartment      -17348          -2420   \n",
      "434809               Married  House / apartment      -12387          -1325   \n",
      "434810               Married  House / apartment      -12387          -1325   \n",
      "434811               Married  House / apartment      -17958           -655   \n",
      "434812  Single / not married   Rented apartment       -9188          -1193   \n",
      "\n",
      "        FLAG_MOBIL  FLAG_WORK_PHONE  FLAG_PHONE  FLAG_EMAIL OCCUPATION_TYPE  \\\n",
      "0                1                1           0           0            Null   \n",
      "1                1                1           0           0            Null   \n",
      "2                1                0           0           0  Security staff   \n",
      "3                1                0           1           1     Sales staff   \n",
      "4                1                0           1           1     Sales staff   \n",
      "...            ...              ...         ...         ...             ...   \n",
      "434808           1                0           0           0        Managers   \n",
      "434809           1                0           1           1  Medicine staff   \n",
      "434810           1                0           1           1  Medicine staff   \n",
      "434811           1                0           0           0     Sales staff   \n",
      "434812           1                0           0           0        Laborers   \n",
      "\n",
      "        CNT_FAM_MEMBERS  \n",
      "0                   2.0  \n",
      "1                   2.0  \n",
      "2                   2.0  \n",
      "3                   1.0  \n",
      "4                   1.0  \n",
      "...                 ...  \n",
      "434808              2.0  \n",
      "434809              2.0  \n",
      "434810              2.0  \n",
      "434811              2.0  \n",
      "434812              1.0  \n",
      "\n",
      "[36457 rows x 18 columns]\n"
     ]
    }
   ],
   "source": [
    "#Boolean series that tracks indices of app_df whose \"ID\" keys are also in credit_df\n",
    "\n",
    "app_boolean = app_df[\"ID\"].isin(credit_df[\"ID\"])\n",
    "\n",
    "app_df_overlap = app_df.loc[app_boolean]\n",
    "print(app_df_overlap)"
   ]
  },
  {
   "cell_type": "markdown",
   "id": "b726a2f6",
   "metadata": {},
   "source": [
    "Let us do the same for the credit data and only keep the overlap."
   ]
  },
  {
   "cell_type": "code",
   "execution_count": 468,
   "id": "d0deaf6c",
   "metadata": {},
   "outputs": [
    {
     "name": "stdout",
     "output_type": "stream",
     "text": [
      "              ID  MONTHS_BALANCE STATUS\n",
      "92938    5008804               0      C\n",
      "92939    5008804              -1      C\n",
      "92940    5008804              -2      C\n",
      "92941    5008804              -3      C\n",
      "92942    5008804              -4      C\n",
      "...          ...             ...    ...\n",
      "1048570  5150487             -25      C\n",
      "1048571  5150487             -26      C\n",
      "1048572  5150487             -27      C\n",
      "1048573  5150487             -28      C\n",
      "1048574  5150487             -29      C\n",
      "\n",
      "[777715 rows x 3 columns]\n"
     ]
    }
   ],
   "source": [
    "credit_boolean = credit_df[\"ID\"].isin(app_df[\"ID\"])\n",
    "\n",
    "credit_df_overlap = credit_df.loc[credit_boolean]\n",
    "print(credit_df_overlap)"
   ]
  },
  {
   "cell_type": "markdown",
   "id": "ba937343",
   "metadata": {},
   "source": [
    "The account ID in the credit dataframe is not unique for each row. So, to check each account ID refers to a unique account, we will simply compare it to the number of account id's in the overlapping application dataframe. "
   ]
  },
  {
   "cell_type": "code",
   "execution_count": 462,
   "id": "d7a53e99",
   "metadata": {},
   "outputs": [
    {
     "name": "stdout",
     "output_type": "stream",
     "text": [
      "36457\n",
      "36457\n"
     ]
    }
   ],
   "source": [
    "print(len(set(app_df_overlap[\"ID\"])))\n",
    "print(len(set(credit_df_overlap[\"ID\"])))"
   ]
  },
  {
   "cell_type": "markdown",
   "id": "0f7ab13a",
   "metadata": {},
   "source": [
    "This is excellent. It means each account is identified by its ID. We now collect all accounts with the same application data together, with the goal of creating a new dataframe that only has 1 row per customer, rather than 1 row per account, and whose ID column is replaced by a column that tracks all accounts for that customer. "
   ]
  },
  {
   "cell_type": "code",
   "execution_count": 463,
   "id": "cc559213",
   "metadata": {},
   "outputs": [],
   "source": [
    "#Fill in missing values.\n",
    "\n",
    "app_df_overlap = app_df_overlap.fillna(value=\"Null\")\n",
    "\n",
    "#Assigning variables to the columns of our app_df dataframe\n",
    "\n",
    "columns = app_df.columns.values.tolist()\n",
    "columns_remaining = [x for x in columns if x!='ID']\n",
    "\n",
    "app_df_overlap_grouped = app_df_overlap.groupby(by=columns_remaining, axis=0)"
   ]
  },
  {
   "cell_type": "code",
   "execution_count": 475,
   "id": "4bbf901f",
   "metadata": {
    "scrolled": false
   },
   "outputs": [],
   "source": [
    "#Defining a function that pulls out the id keys as a list from a dataframe corresponding to a group in the above groupby.\n",
    "\n",
    "def IDList(df):\n",
    "    '''Input is a dataframe with an ID column and other columns, where every row is identical except for having \n",
    "        different entries under ID.\n",
    "       Returns a single row dataframe with all IDs collected into a single IDList column.'''\n",
    "    list_of_ids = []\n",
    "    \n",
    "    for entry in df[\"ID\"]:\n",
    "        list_of_ids.append(entry)\n",
    "    IDList_col = []\n",
    "    for i in range(0, len(df.index.values)):\n",
    "        IDList_col.append(list_of_ids)\n",
    "        \n",
    "    df[\"IDList\"] = IDList_col\n",
    "    return df\n",
    "\n"
   ]
  },
  {
   "cell_type": "code",
   "execution_count": 476,
   "id": "d9d366e4",
   "metadata": {},
   "outputs": [
    {
     "name": "stdout",
     "output_type": "stream",
     "text": [
      "        ID CODE_GENDER FLAG_OWN_CAR FLAG_OWN_REALTY  CNT_CHILDREN  \\\n",
      "0  5008804           M            Y               Y             0   \n",
      "1  5008805           M            Y               Y             0   \n",
      "\n",
      "   AMT_INCOME_TOTAL NAME_INCOME_TYPE NAME_EDUCATION_TYPE NAME_FAMILY_STATUS  \\\n",
      "0          427500.0          Working    Higher education     Civil marriage   \n",
      "1          427500.0          Working    Higher education     Civil marriage   \n",
      "\n",
      "  NAME_HOUSING_TYPE  DAYS_BIRTH  DAYS_EMPLOYED  FLAG_MOBIL  FLAG_WORK_PHONE  \\\n",
      "0  Rented apartment      -12005          -4542           1                1   \n",
      "1  Rented apartment      -12005          -4542           1                1   \n",
      "\n",
      "   FLAG_PHONE  FLAG_EMAIL OCCUPATION_TYPE  CNT_FAM_MEMBERS              IDList  \n",
      "0           0           0            Null              2.0  [5008804, 5008805]  \n",
      "1           0           0            Null              2.0  [5008804, 5008805]  \n",
      "Time Elapsed:  0.0074841976165771484\n",
      "2\n"
     ]
    },
    {
     "name": "stderr",
     "output_type": "stream",
     "text": [
      "<ipython-input-475-54fc612c9f13>:15: SettingWithCopyWarning: \n",
      "A value is trying to be set on a copy of a slice from a DataFrame.\n",
      "Try using .loc[row_indexer,col_indexer] = value instead\n",
      "\n",
      "See the caveats in the documentation: https://pandas.pydata.org/pandas-docs/stable/user_guide/indexing.html#returning-a-view-versus-a-copy\n",
      "  df[\"IDList\"] = IDList_col\n",
      "<ipython-input-475-54fc612c9f13>:15: SettingWithCopyWarning: \n",
      "A value is trying to be set on a copy of a slice from a DataFrame.\n",
      "Try using .loc[row_indexer,col_indexer] = value instead\n",
      "\n",
      "See the caveats in the documentation: https://pandas.pydata.org/pandas-docs/stable/user_guide/indexing.html#returning-a-view-versus-a-copy\n",
      "  df[\"IDList\"] = IDList_col\n"
     ]
    }
   ],
   "source": [
    "#Test\n",
    "t_0 = time.time()\n",
    "print(IDList(app_df_overlap.iloc[[0, 1], :]))\n",
    "t_1 = time.time()\n",
    "print(\"Time Elapsed: \", t_1 - t_0)\n",
    "print(len(IDList(app_df_overlap.iloc[[0, 1], :])))"
   ]
  },
  {
   "cell_type": "code",
   "execution_count": 479,
   "id": "2a2bf9c8",
   "metadata": {},
   "outputs": [],
   "source": [
    "app_df_id_list = app_df_overlap_grouped.apply(IDList)"
   ]
  },
  {
   "cell_type": "code",
   "execution_count": 480,
   "id": "c35c7110",
   "metadata": {},
   "outputs": [
    {
     "name": "stdout",
     "output_type": "stream",
     "text": [
      "             ID CODE_GENDER FLAG_OWN_CAR FLAG_OWN_REALTY  CNT_CHILDREN  \\\n",
      "0       5008804           M            Y               Y             0   \n",
      "1       5008805           M            Y               Y             0   \n",
      "2       5008806           M            Y               Y             0   \n",
      "3       5008808           F            N               Y             0   \n",
      "4       5008809           F            N               Y             0   \n",
      "...         ...         ...          ...             ...           ...   \n",
      "434808  5149828           M            Y               Y             0   \n",
      "434809  5149834           F            N               Y             0   \n",
      "434810  5149838           F            N               Y             0   \n",
      "434811  5150049           F            N               Y             0   \n",
      "434812  5150337           M            N               Y             0   \n",
      "\n",
      "        AMT_INCOME_TOTAL      NAME_INCOME_TYPE            NAME_EDUCATION_TYPE  \\\n",
      "0               427500.0               Working               Higher education   \n",
      "1               427500.0               Working               Higher education   \n",
      "2               112500.0               Working  Secondary / secondary special   \n",
      "3               270000.0  Commercial associate  Secondary / secondary special   \n",
      "4               270000.0  Commercial associate  Secondary / secondary special   \n",
      "...                  ...                   ...                            ...   \n",
      "434808          315000.0               Working  Secondary / secondary special   \n",
      "434809          157500.0  Commercial associate               Higher education   \n",
      "434810          157500.0             Pensioner               Higher education   \n",
      "434811          283500.0               Working  Secondary / secondary special   \n",
      "434812          112500.0               Working  Secondary / secondary special   \n",
      "\n",
      "          NAME_FAMILY_STATUS  NAME_HOUSING_TYPE  DAYS_BIRTH  DAYS_EMPLOYED  \\\n",
      "0             Civil marriage   Rented apartment      -12005          -4542   \n",
      "1             Civil marriage   Rented apartment      -12005          -4542   \n",
      "2                    Married  House / apartment      -21474          -1134   \n",
      "3       Single / not married  House / apartment      -19110          -3051   \n",
      "4       Single / not married  House / apartment      -19110          -3051   \n",
      "...                      ...                ...         ...            ...   \n",
      "434808               Married  House / apartment      -17348          -2420   \n",
      "434809               Married  House / apartment      -12387          -1325   \n",
      "434810               Married  House / apartment      -12387          -1325   \n",
      "434811               Married  House / apartment      -17958           -655   \n",
      "434812  Single / not married   Rented apartment       -9188          -1193   \n",
      "\n",
      "        FLAG_MOBIL  FLAG_WORK_PHONE  FLAG_PHONE  FLAG_EMAIL OCCUPATION_TYPE  \\\n",
      "0                1                1           0           0            Null   \n",
      "1                1                1           0           0            Null   \n",
      "2                1                0           0           0  Security staff   \n",
      "3                1                0           1           1     Sales staff   \n",
      "4                1                0           1           1     Sales staff   \n",
      "...            ...              ...         ...         ...             ...   \n",
      "434808           1                0           0           0        Managers   \n",
      "434809           1                0           1           1  Medicine staff   \n",
      "434810           1                0           1           1  Medicine staff   \n",
      "434811           1                0           0           0     Sales staff   \n",
      "434812           1                0           0           0        Laborers   \n",
      "\n",
      "        CNT_FAM_MEMBERS                                             IDList  \n",
      "0                   2.0                                 [5008804, 5008805]  \n",
      "1                   2.0                                 [5008804, 5008805]  \n",
      "2                   2.0                                          [5008806]  \n",
      "3                   1.0               [5008808, 5008809, 5008810, 5008811]  \n",
      "4                   1.0               [5008808, 5008809, 5008810, 5008811]  \n",
      "...                 ...                                                ...  \n",
      "434808              2.0  [5149825, 5149827, 5149829, 5149830, 5149831, ...  \n",
      "434809              2.0      [5149833, 5149835, 5149836, 5149837, 5149834]  \n",
      "434810              2.0                                          [5149838]  \n",
      "434811              2.0  [5150047, 5150048, 5150050, 5150051, 5150052, ...  \n",
      "434812              1.0                                          [5150337]  \n",
      "\n",
      "[36457 rows x 19 columns]\n"
     ]
    }
   ],
   "source": [
    "print(app_df_id_list)"
   ]
  },
  {
   "cell_type": "markdown",
   "id": "3c8f0ee2",
   "metadata": {},
   "source": [
    "We can now drop duplicates based on demographic data and we will have our desired dataframe. "
   ]
  },
  {
   "cell_type": "code",
   "execution_count": 482,
   "id": "902552ad",
   "metadata": {},
   "outputs": [
    {
     "name": "stdout",
     "output_type": "stream",
     "text": [
      "             ID CODE_GENDER FLAG_OWN_CAR FLAG_OWN_REALTY  CNT_CHILDREN  \\\n",
      "0       5008804           M            Y               Y             0   \n",
      "2       5008806           M            Y               Y             0   \n",
      "3       5008808           F            N               Y             0   \n",
      "7       5008812           F            N               Y             0   \n",
      "10      5008815           M            Y               Y             0   \n",
      "...         ...         ...          ...             ...           ...   \n",
      "434797  5148694           F            N               N             0   \n",
      "434801  5149055           F            N               Y             0   \n",
      "434806  5149729           M            Y               Y             0   \n",
      "434810  5149838           F            N               Y             0   \n",
      "434812  5150337           M            N               Y             0   \n",
      "\n",
      "        AMT_INCOME_TOTAL      NAME_INCOME_TYPE            NAME_EDUCATION_TYPE  \\\n",
      "0               427500.0               Working               Higher education   \n",
      "2               112500.0               Working  Secondary / secondary special   \n",
      "3               270000.0  Commercial associate  Secondary / secondary special   \n",
      "7               283500.0             Pensioner               Higher education   \n",
      "10              270000.0               Working               Higher education   \n",
      "...                  ...                   ...                            ...   \n",
      "434797          180000.0             Pensioner  Secondary / secondary special   \n",
      "434801          112500.0  Commercial associate  Secondary / secondary special   \n",
      "434806           90000.0               Working  Secondary / secondary special   \n",
      "434810          157500.0             Pensioner               Higher education   \n",
      "434812          112500.0               Working  Secondary / secondary special   \n",
      "\n",
      "          NAME_FAMILY_STATUS    NAME_HOUSING_TYPE  DAYS_BIRTH  DAYS_EMPLOYED  \\\n",
      "0             Civil marriage     Rented apartment      -12005          -4542   \n",
      "2                    Married    House / apartment      -21474          -1134   \n",
      "3       Single / not married    House / apartment      -19110          -3051   \n",
      "7                  Separated    House / apartment      -22464         365243   \n",
      "10                   Married    House / apartment      -16872           -769   \n",
      "...                      ...                  ...         ...            ...   \n",
      "434797        Civil marriage  Municipal apartment      -20600           -198   \n",
      "434801               Married    House / apartment      -15837          -2694   \n",
      "434806               Married    House / apartment      -19101          -1721   \n",
      "434810               Married    House / apartment      -12387          -1325   \n",
      "434812  Single / not married     Rented apartment       -9188          -1193   \n",
      "\n",
      "        FLAG_MOBIL  FLAG_WORK_PHONE  FLAG_PHONE  FLAG_EMAIL OCCUPATION_TYPE  \\\n",
      "0                1                1           0           0            Null   \n",
      "2                1                0           0           0  Security staff   \n",
      "3                1                0           1           1     Sales staff   \n",
      "7                1                0           0           0            Null   \n",
      "10               1                1           1           1     Accountants   \n",
      "...            ...              ...         ...         ...             ...   \n",
      "434797           1                0           0           0        Laborers   \n",
      "434801           1                1           1           0            Null   \n",
      "434806           1                0           0           0            Null   \n",
      "434810           1                0           1           1  Medicine staff   \n",
      "434812           1                0           0           0        Laborers   \n",
      "\n",
      "        CNT_FAM_MEMBERS                                IDList  \n",
      "0                   2.0                    [5008804, 5008805]  \n",
      "2                   2.0                             [5008806]  \n",
      "3                   1.0  [5008808, 5008809, 5008810, 5008811]  \n",
      "7                   1.0           [5008812, 5008813, 5008814]  \n",
      "10                  2.0                    [5008815, 5112956]  \n",
      "...                 ...                                   ...  \n",
      "434797              2.0                             [5148694]  \n",
      "434801              2.0                    [5149055, 5149056]  \n",
      "434806              2.0                             [5149729]  \n",
      "434810              2.0                             [5149838]  \n",
      "434812              1.0                             [5150337]  \n",
      "\n",
      "[9728 rows x 19 columns]\n"
     ]
    }
   ],
   "source": [
    "app_df_customer_rows = app_df_id_list.drop_duplicates(subset=columns_remaining)\n",
    "print(app_df_customer_rows)"
   ]
  }
 ],
 "metadata": {
  "kernelspec": {
   "display_name": "Python 3",
   "language": "python",
   "name": "python3"
  },
  "language_info": {
   "codemirror_mode": {
    "name": "ipython",
    "version": 3
   },
   "file_extension": ".py",
   "mimetype": "text/x-python",
   "name": "python",
   "nbconvert_exporter": "python",
   "pygments_lexer": "ipython3",
   "version": "3.8.8"
  }
 },
 "nbformat": 4,
 "nbformat_minor": 5
}
