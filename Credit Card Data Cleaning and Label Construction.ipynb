{
 "cells": [
  {
   "cell_type": "markdown",
   "id": "440e2fd2",
   "metadata": {},
   "source": [
    "## In this notebook, I analyze [this Kaggle dataset](https://www.kaggle.com/rikdifos/credit-card-approval-prediction). The dataset consists of demographic and financial data for accounts at a bank (unspecified) along with a credit history of that account. The same customer at the bank may have multiple accounts attached to them. The goal of the notebook is to clean up the data and construct a label for each customer using all of their accounts as good or bad credit. This notebook will later be used to build a model to predict the credit score of customers using their demographic and financial data, to quantify the risk of opening a credit account."
   ]
  },
  {
   "cell_type": "markdown",
   "id": "4c7dfbaa",
   "metadata": {},
   "source": [
    "### Data Cleaning"
   ]
  },
  {
   "cell_type": "code",
   "execution_count": 311,
   "id": "6b284a10",
   "metadata": {},
   "outputs": [],
   "source": [
    "import sys\n",
    "import time\n",
    "import pickle\n",
    "import itertools\n",
    "import pandas as pd\n",
    "import numpy as np\n",
    "from matplotlib import pyplot as plt\n",
    "import seaborn as sns\n",
    "import sklearn"
   ]
  },
  {
   "cell_type": "markdown",
   "id": "9aeb608d",
   "metadata": {},
   "source": [
    "Let's begin by loading our two dataframes."
   ]
  },
  {
   "cell_type": "code",
   "execution_count": 95,
   "id": "69c19473",
   "metadata": {},
   "outputs": [],
   "source": [
    "with open(\"application_record.csv\", \"r\") as app_data:\n",
    "    app_df = pd.read_csv(app_data)\n",
    "    "
   ]
  },
  {
   "cell_type": "code",
   "execution_count": 130,
   "id": "1b5d806d",
   "metadata": {},
   "outputs": [
    {
     "name": "stdout",
     "output_type": "stream",
     "text": [
      "             ID CODE_GENDER FLAG_OWN_CAR FLAG_OWN_REALTY  CNT_CHILDREN  \\\n",
      "0       5008804           M            Y               Y             0   \n",
      "1       5008805           M            Y               Y             0   \n",
      "2       5008806           M            Y               Y             0   \n",
      "3       5008808           F            N               Y             0   \n",
      "4       5008809           F            N               Y             0   \n",
      "...         ...         ...          ...             ...           ...   \n",
      "438552  6840104           M            N               Y             0   \n",
      "438553  6840222           F            N               N             0   \n",
      "438554  6841878           F            N               N             0   \n",
      "438555  6842765           F            N               Y             0   \n",
      "438556  6842885           F            N               Y             0   \n",
      "\n",
      "        AMT_INCOME_TOTAL      NAME_INCOME_TYPE            NAME_EDUCATION_TYPE  \\\n",
      "0               427500.0               Working               Higher education   \n",
      "1               427500.0               Working               Higher education   \n",
      "2               112500.0               Working  Secondary / secondary special   \n",
      "3               270000.0  Commercial associate  Secondary / secondary special   \n",
      "4               270000.0  Commercial associate  Secondary / secondary special   \n",
      "...                  ...                   ...                            ...   \n",
      "438552          135000.0             Pensioner  Secondary / secondary special   \n",
      "438553          103500.0               Working  Secondary / secondary special   \n",
      "438554           54000.0  Commercial associate               Higher education   \n",
      "438555           72000.0             Pensioner  Secondary / secondary special   \n",
      "438556          121500.0               Working  Secondary / secondary special   \n",
      "\n",
      "          NAME_FAMILY_STATUS  NAME_HOUSING_TYPE  DAYS_BIRTH  DAYS_EMPLOYED  \\\n",
      "0             Civil marriage   Rented apartment      -12005          -4542   \n",
      "1             Civil marriage   Rented apartment      -12005          -4542   \n",
      "2                    Married  House / apartment      -21474          -1134   \n",
      "3       Single / not married  House / apartment      -19110          -3051   \n",
      "4       Single / not married  House / apartment      -19110          -3051   \n",
      "...                      ...                ...         ...            ...   \n",
      "438552             Separated  House / apartment      -22717         365243   \n",
      "438553  Single / not married  House / apartment      -15939          -3007   \n",
      "438554  Single / not married       With parents       -8169           -372   \n",
      "438555               Married  House / apartment      -21673         365243   \n",
      "438556               Married  House / apartment      -18858          -1201   \n",
      "\n",
      "        FLAG_MOBIL  FLAG_WORK_PHONE  FLAG_PHONE  FLAG_EMAIL OCCUPATION_TYPE  \\\n",
      "0                1                1           0           0             NaN   \n",
      "1                1                1           0           0             NaN   \n",
      "2                1                0           0           0  Security staff   \n",
      "3                1                0           1           1     Sales staff   \n",
      "4                1                0           1           1     Sales staff   \n",
      "...            ...              ...         ...         ...             ...   \n",
      "438552           1                0           0           0             NaN   \n",
      "438553           1                0           0           0        Laborers   \n",
      "438554           1                1           0           0     Sales staff   \n",
      "438555           1                0           0           0             NaN   \n",
      "438556           1                0           1           0     Sales staff   \n",
      "\n",
      "        CNT_FAM_MEMBERS  \n",
      "0                   2.0  \n",
      "1                   2.0  \n",
      "2                   2.0  \n",
      "3                   1.0  \n",
      "4                   1.0  \n",
      "...                 ...  \n",
      "438552              1.0  \n",
      "438553              1.0  \n",
      "438554              1.0  \n",
      "438555              2.0  \n",
      "438556              2.0  \n",
      "\n",
      "[438557 rows x 18 columns]\n",
      "438557\n"
     ]
    }
   ],
   "source": [
    "print(app_df)"
   ]
  },
  {
   "cell_type": "code",
   "execution_count": 97,
   "id": "f4219f48",
   "metadata": {},
   "outputs": [],
   "source": [
    "with open(\"credit_record.csv\", \"r\") as credit_data:\n",
    "    credit_df = pd.read_csv(credit_data)"
   ]
  },
  {
   "cell_type": "code",
   "execution_count": 98,
   "id": "d71b8cf0",
   "metadata": {},
   "outputs": [
    {
     "name": "stdout",
     "output_type": "stream",
     "text": [
      "              ID  MONTHS_BALANCE STATUS\n",
      "0        5001711               0      X\n",
      "1        5001711              -1      0\n",
      "2        5001711              -2      0\n",
      "3        5001711              -3      0\n",
      "4        5001712               0      C\n",
      "...          ...             ...    ...\n",
      "1048570  5150487             -25      C\n",
      "1048571  5150487             -26      C\n",
      "1048572  5150487             -27      C\n",
      "1048573  5150487             -28      C\n",
      "1048574  5150487             -29      C\n",
      "\n",
      "[1048575 rows x 3 columns]\n"
     ]
    }
   ],
   "source": [
    "print(credit_df)"
   ]
  },
  {
   "cell_type": "markdown",
   "id": "89cc151c",
   "metadata": {},
   "source": [
    "Let us see if the ID keys are all unique. If so, we want to change the index to correspond to the ID key. This will save time on later computations. "
   ]
  },
  {
   "cell_type": "code",
   "execution_count": 323,
   "id": "19ec5bc2",
   "metadata": {},
   "outputs": [
    {
     "name": "stdout",
     "output_type": "stream",
     "text": [
      "438510\n"
     ]
    }
   ],
   "source": [
    "print(len(set(app_df[\"ID\"])))"
   ]
  },
  {
   "cell_type": "markdown",
   "id": "5ef970b6",
   "metadata": {},
   "source": [
    "This is a bit unfortunate, as we have duplicate id's. We need to check if the duplicate ids have the same remaining data."
   ]
  },
  {
   "cell_type": "code",
   "execution_count": 332,
   "id": "9bac823b",
   "metadata": {},
   "outputs": [
    {
     "name": "stdout",
     "output_type": "stream",
     "text": [
      "             ID CODE_GENDER FLAG_OWN_CAR FLAG_OWN_REALTY  CNT_CHILDREN  \\\n",
      "421211  7702516           F            N               Y             2   \n",
      "421268  7602432           M            N               Y             0   \n",
      "421349  7602432           F            N               N             0   \n",
      "421464  7836971           M            Y               N             1   \n",
      "421698  7213374           M            Y               N             0   \n",
      "...         ...         ...          ...             ...           ...   \n",
      "433158  7282535           F            N               Y             0   \n",
      "433159  7742853           M            N               Y             0   \n",
      "433217  7135270           F            N               Y             0   \n",
      "433666  7091721           F            Y               Y             0   \n",
      "433789  7618285           F            N               Y             0   \n",
      "\n",
      "        AMT_INCOME_TOTAL      NAME_INCOME_TYPE            NAME_EDUCATION_TYPE  \\\n",
      "421211          180000.0               Working  Secondary / secondary special   \n",
      "421268          315000.0  Commercial associate               Higher education   \n",
      "421349          117000.0             Pensioner               Higher education   \n",
      "421464          157500.0               Working  Secondary / secondary special   \n",
      "421698          148500.0               Working  Secondary / secondary special   \n",
      "...                  ...                   ...                            ...   \n",
      "433158           63000.0             Pensioner  Secondary / secondary special   \n",
      "433159          157500.0               Working  Secondary / secondary special   \n",
      "433217          216000.0             Pensioner  Secondary / secondary special   \n",
      "433666           90000.0  Commercial associate  Secondary / secondary special   \n",
      "433789          157500.0               Working  Secondary / secondary special   \n",
      "\n",
      "          NAME_FAMILY_STATUS  NAME_HOUSING_TYPE  DAYS_BIRTH  DAYS_EMPLOYED  \\\n",
      "421211               Married  House / apartment      -11753          -1256   \n",
      "421268        Civil marriage  House / apartment      -16627          -1304   \n",
      "421349               Married  House / apartment      -24708         365243   \n",
      "421464               Married  House / apartment      -13771          -5520   \n",
      "421698               Married  House / apartment       -9950           -961   \n",
      "...                      ...                ...         ...            ...   \n",
      "433158               Married  House / apartment      -21124         365243   \n",
      "433159  Single / not married  House / apartment      -15052          -1695   \n",
      "433217               Married  House / apartment      -23113         365243   \n",
      "433666               Married  House / apartment      -14116          -2269   \n",
      "433789  Single / not married  House / apartment      -10113          -1007   \n",
      "\n",
      "        FLAG_MOBIL  FLAG_WORK_PHONE  FLAG_PHONE  FLAG_EMAIL OCCUPATION_TYPE  \\\n",
      "421211           1                1           1           0     Sales staff   \n",
      "421268           1                0           1           0         Drivers   \n",
      "421349           1                0           0           0             NaN   \n",
      "421464           1                0           0           0             NaN   \n",
      "421698           1                0           1           0        Laborers   \n",
      "...            ...              ...         ...         ...             ...   \n",
      "433158           1                0           1           0             NaN   \n",
      "433159           1                0           0           0        Laborers   \n",
      "433217           1                0           0           0             NaN   \n",
      "433666           1                0           0           0  Medicine staff   \n",
      "433789           1                0           0           0        Laborers   \n",
      "\n",
      "        CNT_FAM_MEMBERS  \n",
      "421211              4.0  \n",
      "421268              2.0  \n",
      "421349              2.0  \n",
      "421464              3.0  \n",
      "421698              2.0  \n",
      "...                 ...  \n",
      "433158              2.0  \n",
      "433159              1.0  \n",
      "433217              2.0  \n",
      "433666              2.0  \n",
      "433789              1.0  \n",
      "\n",
      "[94 rows x 18 columns]\n"
     ]
    }
   ],
   "source": [
    "app_df_duplicate_id = app_df.duplicated(subset=\"ID\", keep=False)\n",
    "\n",
    "print(app_df[app_df_duplicate_id])"
   ]
  },
  {
   "cell_type": "markdown",
   "id": "2bec77ca",
   "metadata": {},
   "source": [
    "There doesn't seem to be a particularly strong pattern between accounts tied to the same id. It is possible these are joint accounts but the demographic data doesn't really line up. We also don't have any indication from the dataset on how these id's are linked to the corresponding id in the credit dataframe. Fortuantely, we don't have many duplicates of this type, so we can just remove them from the dataset. "
   ]
  },
  {
   "cell_type": "code",
   "execution_count": 474,
   "id": "d0906b66",
   "metadata": {},
   "outputs": [],
   "source": [
    "app_df = app_df.drop_duplicates(subset=\"ID\", keep=False)"
   ]
  },
  {
   "cell_type": "markdown",
   "id": "8115feb0",
   "metadata": {},
   "source": [
    "Notice that we have yet another issue with duplicates: the same customers seem to have multiple account id's. We need to identify the cause of the duplication. It is possible these are multiple accounts for the same peron, and it is also possible these multiple accounts have different credit histories. We're going to collect all accounts with identical applicaton data together to then see how they behave in the credit. But before we do so, we will reduce both the application dataframe and the credit dataframe to just their intersections along the ID key. Additionaly, to make things easier, we will fill in values for null values in the application dataframe."
   ]
  },
  {
   "cell_type": "code",
   "execution_count": 467,
   "id": "29211d6e",
   "metadata": {},
   "outputs": [
    {
     "name": "stdout",
     "output_type": "stream",
     "text": [
      "             ID CODE_GENDER FLAG_OWN_CAR FLAG_OWN_REALTY  CNT_CHILDREN  \\\n",
      "0       5008804           M            Y               Y             0   \n",
      "1       5008805           M            Y               Y             0   \n",
      "2       5008806           M            Y               Y             0   \n",
      "3       5008808           F            N               Y             0   \n",
      "4       5008809           F            N               Y             0   \n",
      "...         ...         ...          ...             ...           ...   \n",
      "434808  5149828           M            Y               Y             0   \n",
      "434809  5149834           F            N               Y             0   \n",
      "434810  5149838           F            N               Y             0   \n",
      "434811  5150049           F            N               Y             0   \n",
      "434812  5150337           M            N               Y             0   \n",
      "\n",
      "        AMT_INCOME_TOTAL      NAME_INCOME_TYPE            NAME_EDUCATION_TYPE  \\\n",
      "0               427500.0               Working               Higher education   \n",
      "1               427500.0               Working               Higher education   \n",
      "2               112500.0               Working  Secondary / secondary special   \n",
      "3               270000.0  Commercial associate  Secondary / secondary special   \n",
      "4               270000.0  Commercial associate  Secondary / secondary special   \n",
      "...                  ...                   ...                            ...   \n",
      "434808          315000.0               Working  Secondary / secondary special   \n",
      "434809          157500.0  Commercial associate               Higher education   \n",
      "434810          157500.0             Pensioner               Higher education   \n",
      "434811          283500.0               Working  Secondary / secondary special   \n",
      "434812          112500.0               Working  Secondary / secondary special   \n",
      "\n",
      "          NAME_FAMILY_STATUS  NAME_HOUSING_TYPE  DAYS_BIRTH  DAYS_EMPLOYED  \\\n",
      "0             Civil marriage   Rented apartment      -12005          -4542   \n",
      "1             Civil marriage   Rented apartment      -12005          -4542   \n",
      "2                    Married  House / apartment      -21474          -1134   \n",
      "3       Single / not married  House / apartment      -19110          -3051   \n",
      "4       Single / not married  House / apartment      -19110          -3051   \n",
      "...                      ...                ...         ...            ...   \n",
      "434808               Married  House / apartment      -17348          -2420   \n",
      "434809               Married  House / apartment      -12387          -1325   \n",
      "434810               Married  House / apartment      -12387          -1325   \n",
      "434811               Married  House / apartment      -17958           -655   \n",
      "434812  Single / not married   Rented apartment       -9188          -1193   \n",
      "\n",
      "        FLAG_MOBIL  FLAG_WORK_PHONE  FLAG_PHONE  FLAG_EMAIL OCCUPATION_TYPE  \\\n",
      "0                1                1           0           0            Null   \n",
      "1                1                1           0           0            Null   \n",
      "2                1                0           0           0  Security staff   \n",
      "3                1                0           1           1     Sales staff   \n",
      "4                1                0           1           1     Sales staff   \n",
      "...            ...              ...         ...         ...             ...   \n",
      "434808           1                0           0           0        Managers   \n",
      "434809           1                0           1           1  Medicine staff   \n",
      "434810           1                0           1           1  Medicine staff   \n",
      "434811           1                0           0           0     Sales staff   \n",
      "434812           1                0           0           0        Laborers   \n",
      "\n",
      "        CNT_FAM_MEMBERS  \n",
      "0                   2.0  \n",
      "1                   2.0  \n",
      "2                   2.0  \n",
      "3                   1.0  \n",
      "4                   1.0  \n",
      "...                 ...  \n",
      "434808              2.0  \n",
      "434809              2.0  \n",
      "434810              2.0  \n",
      "434811              2.0  \n",
      "434812              1.0  \n",
      "\n",
      "[36457 rows x 18 columns]\n"
     ]
    }
   ],
   "source": [
    "#Boolean series that tracks indices of app_df whose \"ID\" keys are also in credit_df\n",
    "\n",
    "app_boolean = app_df[\"ID\"].isin(credit_df[\"ID\"])\n",
    "\n",
    "app_df_overlap = app_df.loc[app_boolean]\n",
    "print(app_df_overlap)"
   ]
  },
  {
   "cell_type": "markdown",
   "id": "8388823e",
   "metadata": {},
   "source": [
    "Let us do the same for the credit data and only keep the overlap."
   ]
  },
  {
   "cell_type": "code",
   "execution_count": 468,
   "id": "2b4bdd4d",
   "metadata": {},
   "outputs": [
    {
     "name": "stdout",
     "output_type": "stream",
     "text": [
      "              ID  MONTHS_BALANCE STATUS\n",
      "92938    5008804               0      C\n",
      "92939    5008804              -1      C\n",
      "92940    5008804              -2      C\n",
      "92941    5008804              -3      C\n",
      "92942    5008804              -4      C\n",
      "...          ...             ...    ...\n",
      "1048570  5150487             -25      C\n",
      "1048571  5150487             -26      C\n",
      "1048572  5150487             -27      C\n",
      "1048573  5150487             -28      C\n",
      "1048574  5150487             -29      C\n",
      "\n",
      "[777715 rows x 3 columns]\n"
     ]
    }
   ],
   "source": [
    "credit_boolean = credit_df[\"ID\"].isin(app_df[\"ID\"])\n",
    "\n",
    "credit_df_overlap = credit_df.loc[credit_boolean]\n",
    "print(credit_df_overlap)"
   ]
  },
  {
   "cell_type": "markdown",
   "id": "7e8bf100",
   "metadata": {},
   "source": [
    "The account ID in the credit dataframe is not unique for each row. So, to check each account ID refers to a unique account, we will simply compare it to the number of account id's in the overlapping application dataframe. "
   ]
  },
  {
   "cell_type": "code",
   "execution_count": 462,
   "id": "600319f6",
   "metadata": {},
   "outputs": [
    {
     "name": "stdout",
     "output_type": "stream",
     "text": [
      "36457\n",
      "36457\n"
     ]
    }
   ],
   "source": [
    "print(len(set(app_df_overlap[\"ID\"])))\n",
    "print(len(set(credit_df_overlap[\"ID\"])))"
   ]
  },
  {
   "cell_type": "markdown",
   "id": "a282b5d2",
   "metadata": {},
   "source": [
    "This is excellent. It means each account is identified by its ID. We now collect all accounts with the same application data together, with the goal of creating a new dataframe that only has 1 row per customer, rather than 1 row per account, and whose ID column is replaced by a column that tracks all accounts for that customer. "
   ]
  },
  {
   "cell_type": "code",
   "execution_count": 463,
   "id": "e8113e50",
   "metadata": {},
   "outputs": [],
   "source": [
    "#Fill in missing values.\n",
    "\n",
    "app_df_overlap = app_df_overlap.fillna(value=\"Null\")\n",
    "\n",
    "#Assigning variables to the columns of our app_df dataframe\n",
    "\n",
    "columns = app_df.columns.values.tolist()\n",
    "columns_remaining = [x for x in columns if x!='ID']\n",
    "\n",
    "app_df_overlap_grouped = app_df_overlap.groupby(by=columns_remaining, axis=0)"
   ]
  },
  {
   "cell_type": "code",
   "execution_count": 475,
   "id": "fec3b81a",
   "metadata": {
    "scrolled": false
   },
   "outputs": [],
   "source": [
    "#Defining a function that pulls out the id keys as a list from a dataframe corresponding to a group in the above groupby.\n",
    "\n",
    "def IDList(df):\n",
    "    '''Input is a dataframe with an ID column and other columns, where every row is identical except for having \n",
    "        different entries under ID.\n",
    "       Returns a single row dataframe with all IDs collected into a single IDList column.'''\n",
    "    list_of_ids = []\n",
    "    \n",
    "    for entry in df[\"ID\"]:\n",
    "        list_of_ids.append(entry)\n",
    "    IDList_col = []\n",
    "    for i in range(0, len(df.index.values)):\n",
    "        IDList_col.append(list_of_ids)\n",
    "        \n",
    "    df[\"IDList\"] = IDList_col\n",
    "    return df\n",
    "\n"
   ]
  },
  {
   "cell_type": "code",
   "execution_count": 476,
   "id": "6248f3a5",
   "metadata": {},
   "outputs": [
    {
     "name": "stdout",
     "output_type": "stream",
     "text": [
      "        ID CODE_GENDER FLAG_OWN_CAR FLAG_OWN_REALTY  CNT_CHILDREN  \\\n",
      "0  5008804           M            Y               Y             0   \n",
      "1  5008805           M            Y               Y             0   \n",
      "\n",
      "   AMT_INCOME_TOTAL NAME_INCOME_TYPE NAME_EDUCATION_TYPE NAME_FAMILY_STATUS  \\\n",
      "0          427500.0          Working    Higher education     Civil marriage   \n",
      "1          427500.0          Working    Higher education     Civil marriage   \n",
      "\n",
      "  NAME_HOUSING_TYPE  DAYS_BIRTH  DAYS_EMPLOYED  FLAG_MOBIL  FLAG_WORK_PHONE  \\\n",
      "0  Rented apartment      -12005          -4542           1                1   \n",
      "1  Rented apartment      -12005          -4542           1                1   \n",
      "\n",
      "   FLAG_PHONE  FLAG_EMAIL OCCUPATION_TYPE  CNT_FAM_MEMBERS              IDList  \n",
      "0           0           0            Null              2.0  [5008804, 5008805]  \n",
      "1           0           0            Null              2.0  [5008804, 5008805]  \n",
      "Time Elapsed:  0.0074841976165771484\n",
      "2\n"
     ]
    },
    {
     "name": "stderr",
     "output_type": "stream",
     "text": [
      "<ipython-input-475-54fc612c9f13>:15: SettingWithCopyWarning: \n",
      "A value is trying to be set on a copy of a slice from a DataFrame.\n",
      "Try using .loc[row_indexer,col_indexer] = value instead\n",
      "\n",
      "See the caveats in the documentation: https://pandas.pydata.org/pandas-docs/stable/user_guide/indexing.html#returning-a-view-versus-a-copy\n",
      "  df[\"IDList\"] = IDList_col\n",
      "<ipython-input-475-54fc612c9f13>:15: SettingWithCopyWarning: \n",
      "A value is trying to be set on a copy of a slice from a DataFrame.\n",
      "Try using .loc[row_indexer,col_indexer] = value instead\n",
      "\n",
      "See the caveats in the documentation: https://pandas.pydata.org/pandas-docs/stable/user_guide/indexing.html#returning-a-view-versus-a-copy\n",
      "  df[\"IDList\"] = IDList_col\n"
     ]
    }
   ],
   "source": [
    "#Test\n",
    "t_0 = time.time()\n",
    "print(IDList(app_df_overlap.iloc[[0, 1], :]))\n",
    "t_1 = time.time()\n",
    "print(\"Time Elapsed: \", t_1 - t_0)\n",
    "print(len(IDList(app_df_overlap.iloc[[0, 1], :])))"
   ]
  },
  {
   "cell_type": "code",
   "execution_count": 479,
   "id": "9b076ec3",
   "metadata": {},
   "outputs": [],
   "source": [
    "app_df_id_list = app_df_overlap_grouped.apply(IDList)"
   ]
  },
  {
   "cell_type": "code",
   "execution_count": 480,
   "id": "e2d0ee1e",
   "metadata": {},
   "outputs": [
    {
     "name": "stdout",
     "output_type": "stream",
     "text": [
      "             ID CODE_GENDER FLAG_OWN_CAR FLAG_OWN_REALTY  CNT_CHILDREN  \\\n",
      "0       5008804           M            Y               Y             0   \n",
      "1       5008805           M            Y               Y             0   \n",
      "2       5008806           M            Y               Y             0   \n",
      "3       5008808           F            N               Y             0   \n",
      "4       5008809           F            N               Y             0   \n",
      "...         ...         ...          ...             ...           ...   \n",
      "434808  5149828           M            Y               Y             0   \n",
      "434809  5149834           F            N               Y             0   \n",
      "434810  5149838           F            N               Y             0   \n",
      "434811  5150049           F            N               Y             0   \n",
      "434812  5150337           M            N               Y             0   \n",
      "\n",
      "        AMT_INCOME_TOTAL      NAME_INCOME_TYPE            NAME_EDUCATION_TYPE  \\\n",
      "0               427500.0               Working               Higher education   \n",
      "1               427500.0               Working               Higher education   \n",
      "2               112500.0               Working  Secondary / secondary special   \n",
      "3               270000.0  Commercial associate  Secondary / secondary special   \n",
      "4               270000.0  Commercial associate  Secondary / secondary special   \n",
      "...                  ...                   ...                            ...   \n",
      "434808          315000.0               Working  Secondary / secondary special   \n",
      "434809          157500.0  Commercial associate               Higher education   \n",
      "434810          157500.0             Pensioner               Higher education   \n",
      "434811          283500.0               Working  Secondary / secondary special   \n",
      "434812          112500.0               Working  Secondary / secondary special   \n",
      "\n",
      "          NAME_FAMILY_STATUS  NAME_HOUSING_TYPE  DAYS_BIRTH  DAYS_EMPLOYED  \\\n",
      "0             Civil marriage   Rented apartment      -12005          -4542   \n",
      "1             Civil marriage   Rented apartment      -12005          -4542   \n",
      "2                    Married  House / apartment      -21474          -1134   \n",
      "3       Single / not married  House / apartment      -19110          -3051   \n",
      "4       Single / not married  House / apartment      -19110          -3051   \n",
      "...                      ...                ...         ...            ...   \n",
      "434808               Married  House / apartment      -17348          -2420   \n",
      "434809               Married  House / apartment      -12387          -1325   \n",
      "434810               Married  House / apartment      -12387          -1325   \n",
      "434811               Married  House / apartment      -17958           -655   \n",
      "434812  Single / not married   Rented apartment       -9188          -1193   \n",
      "\n",
      "        FLAG_MOBIL  FLAG_WORK_PHONE  FLAG_PHONE  FLAG_EMAIL OCCUPATION_TYPE  \\\n",
      "0                1                1           0           0            Null   \n",
      "1                1                1           0           0            Null   \n",
      "2                1                0           0           0  Security staff   \n",
      "3                1                0           1           1     Sales staff   \n",
      "4                1                0           1           1     Sales staff   \n",
      "...            ...              ...         ...         ...             ...   \n",
      "434808           1                0           0           0        Managers   \n",
      "434809           1                0           1           1  Medicine staff   \n",
      "434810           1                0           1           1  Medicine staff   \n",
      "434811           1                0           0           0     Sales staff   \n",
      "434812           1                0           0           0        Laborers   \n",
      "\n",
      "        CNT_FAM_MEMBERS                                             IDList  \n",
      "0                   2.0                                 [5008804, 5008805]  \n",
      "1                   2.0                                 [5008804, 5008805]  \n",
      "2                   2.0                                          [5008806]  \n",
      "3                   1.0               [5008808, 5008809, 5008810, 5008811]  \n",
      "4                   1.0               [5008808, 5008809, 5008810, 5008811]  \n",
      "...                 ...                                                ...  \n",
      "434808              2.0  [5149825, 5149827, 5149829, 5149830, 5149831, ...  \n",
      "434809              2.0      [5149833, 5149835, 5149836, 5149837, 5149834]  \n",
      "434810              2.0                                          [5149838]  \n",
      "434811              2.0  [5150047, 5150048, 5150050, 5150051, 5150052, ...  \n",
      "434812              1.0                                          [5150337]  \n",
      "\n",
      "[36457 rows x 19 columns]\n"
     ]
    }
   ],
   "source": [
    "print(app_df_id_list)"
   ]
  },
  {
   "cell_type": "markdown",
   "id": "f523403d",
   "metadata": {},
   "source": [
    "We can now drop duplicates based on demographic data and we will have our desired dataframe. "
   ]
  },
  {
   "cell_type": "code",
   "execution_count": 482,
   "id": "196f1ef1",
   "metadata": {},
   "outputs": [
    {
     "name": "stdout",
     "output_type": "stream",
     "text": [
      "             ID CODE_GENDER FLAG_OWN_CAR FLAG_OWN_REALTY  CNT_CHILDREN  \\\n",
      "0       5008804           M            Y               Y             0   \n",
      "2       5008806           M            Y               Y             0   \n",
      "3       5008808           F            N               Y             0   \n",
      "7       5008812           F            N               Y             0   \n",
      "10      5008815           M            Y               Y             0   \n",
      "...         ...         ...          ...             ...           ...   \n",
      "434797  5148694           F            N               N             0   \n",
      "434801  5149055           F            N               Y             0   \n",
      "434806  5149729           M            Y               Y             0   \n",
      "434810  5149838           F            N               Y             0   \n",
      "434812  5150337           M            N               Y             0   \n",
      "\n",
      "        AMT_INCOME_TOTAL      NAME_INCOME_TYPE            NAME_EDUCATION_TYPE  \\\n",
      "0               427500.0               Working               Higher education   \n",
      "2               112500.0               Working  Secondary / secondary special   \n",
      "3               270000.0  Commercial associate  Secondary / secondary special   \n",
      "7               283500.0             Pensioner               Higher education   \n",
      "10              270000.0               Working               Higher education   \n",
      "...                  ...                   ...                            ...   \n",
      "434797          180000.0             Pensioner  Secondary / secondary special   \n",
      "434801          112500.0  Commercial associate  Secondary / secondary special   \n",
      "434806           90000.0               Working  Secondary / secondary special   \n",
      "434810          157500.0             Pensioner               Higher education   \n",
      "434812          112500.0               Working  Secondary / secondary special   \n",
      "\n",
      "          NAME_FAMILY_STATUS    NAME_HOUSING_TYPE  DAYS_BIRTH  DAYS_EMPLOYED  \\\n",
      "0             Civil marriage     Rented apartment      -12005          -4542   \n",
      "2                    Married    House / apartment      -21474          -1134   \n",
      "3       Single / not married    House / apartment      -19110          -3051   \n",
      "7                  Separated    House / apartment      -22464         365243   \n",
      "10                   Married    House / apartment      -16872           -769   \n",
      "...                      ...                  ...         ...            ...   \n",
      "434797        Civil marriage  Municipal apartment      -20600           -198   \n",
      "434801               Married    House / apartment      -15837          -2694   \n",
      "434806               Married    House / apartment      -19101          -1721   \n",
      "434810               Married    House / apartment      -12387          -1325   \n",
      "434812  Single / not married     Rented apartment       -9188          -1193   \n",
      "\n",
      "        FLAG_MOBIL  FLAG_WORK_PHONE  FLAG_PHONE  FLAG_EMAIL OCCUPATION_TYPE  \\\n",
      "0                1                1           0           0            Null   \n",
      "2                1                0           0           0  Security staff   \n",
      "3                1                0           1           1     Sales staff   \n",
      "7                1                0           0           0            Null   \n",
      "10               1                1           1           1     Accountants   \n",
      "...            ...              ...         ...         ...             ...   \n",
      "434797           1                0           0           0        Laborers   \n",
      "434801           1                1           1           0            Null   \n",
      "434806           1                0           0           0            Null   \n",
      "434810           1                0           1           1  Medicine staff   \n",
      "434812           1                0           0           0        Laborers   \n",
      "\n",
      "        CNT_FAM_MEMBERS                                IDList  \n",
      "0                   2.0                    [5008804, 5008805]  \n",
      "2                   2.0                             [5008806]  \n",
      "3                   1.0  [5008808, 5008809, 5008810, 5008811]  \n",
      "7                   1.0           [5008812, 5008813, 5008814]  \n",
      "10                  2.0                    [5008815, 5112956]  \n",
      "...                 ...                                   ...  \n",
      "434797              2.0                             [5148694]  \n",
      "434801              2.0                    [5149055, 5149056]  \n",
      "434806              2.0                             [5149729]  \n",
      "434810              2.0                             [5149838]  \n",
      "434812              1.0                             [5150337]  \n",
      "\n",
      "[9728 rows x 19 columns]\n"
     ]
    }
   ],
   "source": [
    "app_df_customer_rows = app_df_id_list.drop_duplicates(subset=columns_remaining)\n",
    "print(app_df_customer_rows)"
   ]
  },
  {
   "cell_type": "markdown",
   "id": "8a59e973",
   "metadata": {},
   "source": [
    "Our application data is now in exactly the form we want it. We're going to save this dataframe, along with the credit dataframe that only has the overlapping accounts for easy reference in later notebooks. "
   ]
  },
  {
   "cell_type": "code",
   "execution_count": 483,
   "id": "85d00681",
   "metadata": {},
   "outputs": [],
   "source": [
    "app_df_customer_rows.to_csv(r'application_data_with_one_row_per_customer.csv')"
   ]
  },
  {
   "cell_type": "code",
   "execution_count": 484,
   "id": "71c607dd",
   "metadata": {},
   "outputs": [],
   "source": [
    "credit_df_overlap.to_csv(r'credit_data_only_including_accounts_in_app_data.csv')"
   ]
  },
  {
   "cell_type": "markdown",
   "id": "0c7d11d7",
   "metadata": {},
   "source": [
    "### Label Construction\n",
    "\n",
    "We now create our labels. To do so, we need to pick the question we are trying to answer with this data. For this notebook, we will focus on some very precise questions. We will pick performance windows of 6 months, 12 months, 24 months and lifetime, and assign a label column corresponding to each performance window. We will label a customer as \"bad credit\", with the label 1, if any of their accounts either get cancelled or go 60+ days overdue at any point during the performance window. If the performance window is \"lifetime\", we will consider a customer to be a bad customer, if any of their accounts close within 6 months or are overdrawn by 60+ days at any point in the account's lifetime."
   ]
  },
  {
   "cell_type": "markdown",
   "id": "7d84d5f3",
   "metadata": {},
   "source": [
    "To create these labels, we first need to rearrange our credit dataframe so each row corresponds to a single account number. "
   ]
  },
  {
   "cell_type": "code",
   "execution_count": 487,
   "id": "8144913d",
   "metadata": {},
   "outputs": [],
   "source": [
    "credit_pivot = credit_df_overlap.pivot(index = 'ID', columns = 'MONTHS_BALANCE', values = 'STATUS')"
   ]
  },
  {
   "cell_type": "code",
   "execution_count": 488,
   "id": "57809d83",
   "metadata": {
    "scrolled": false
   },
   "outputs": [
    {
     "name": "stdout",
     "output_type": "stream",
     "text": [
      "MONTHS_BALANCE  -60  -59  -58  -57  -56  -55  -54  -53  -52  -51  ...  -9   \\\n",
      "ID                                                                ...        \n",
      "5008804         NaN  NaN  NaN  NaN  NaN  NaN  NaN  NaN  NaN  NaN  ...    C   \n",
      "5008805         NaN  NaN  NaN  NaN  NaN  NaN  NaN  NaN  NaN  NaN  ...    C   \n",
      "5008806         NaN  NaN  NaN  NaN  NaN  NaN  NaN  NaN  NaN  NaN  ...    0   \n",
      "5008808         NaN  NaN  NaN  NaN  NaN  NaN  NaN  NaN  NaN  NaN  ...  NaN   \n",
      "5008809         NaN  NaN  NaN  NaN  NaN  NaN  NaN  NaN  NaN  NaN  ...  NaN   \n",
      "...             ...  ...  ...  ...  ...  ...  ...  ...  ...  ...  ...  ...   \n",
      "5150482         NaN  NaN  NaN  NaN  NaN  NaN  NaN  NaN  NaN  NaN  ...  NaN   \n",
      "5150483         NaN  NaN  NaN  NaN  NaN  NaN  NaN  NaN  NaN  NaN  ...    X   \n",
      "5150484         NaN  NaN  NaN  NaN  NaN  NaN  NaN  NaN  NaN  NaN  ...    0   \n",
      "5150485         NaN  NaN  NaN  NaN  NaN  NaN  NaN  NaN  NaN  NaN  ...  NaN   \n",
      "5150487         NaN  NaN  NaN  NaN  NaN  NaN  NaN  NaN  NaN  NaN  ...    C   \n",
      "\n",
      "MONTHS_BALANCE  -8   -7   -6   -5   -4   -3   -2   -1    0   \n",
      "ID                                                           \n",
      "5008804           C    C    C    C    C    C    C    C    C  \n",
      "5008805           C    C    C    C    C    C    C    C    C  \n",
      "5008806           0    X    C    C    C    C    C    C    C  \n",
      "5008808         NaN  NaN  NaN  NaN    X    X    0    X    0  \n",
      "5008809         NaN  NaN  NaN  NaN  NaN  NaN  NaN  NaN  NaN  \n",
      "...             ...  ...  ...  ...  ...  ...  ...  ...  ...  \n",
      "5150482         NaN  NaN  NaN  NaN  NaN  NaN  NaN  NaN  NaN  \n",
      "5150483           X    X    X    X    X    X    X    X    X  \n",
      "5150484           0    0    0    0    0    0    0    0    C  \n",
      "5150485         NaN  NaN  NaN  NaN  NaN  NaN  NaN    0    0  \n",
      "5150487           C    C    C    C    C    C    C    C    C  \n",
      "\n",
      "[36457 rows x 61 columns]\n"
     ]
    }
   ],
   "source": [
    "print(credit_pivot)"
   ]
  },
  {
   "cell_type": "markdown",
   "id": "3e57972f",
   "metadata": {},
   "source": [
    "Let's add some more information on each account to this dataframe. We need to know the month in which the account was opened, and, if the account was ever closed, the month in which it was closed."
   ]
  },
  {
   "cell_type": "code",
   "execution_count": 498,
   "id": "d0a220ff",
   "metadata": {
    "collapsed": true
   },
   "outputs": [
    {
     "name": "stdout",
     "output_type": "stream",
     "text": [
      "-15 MONTHS_BALANCE\n",
      "-60    NaN\n",
      "-59    NaN\n",
      "-58    NaN\n",
      "-57    NaN\n",
      "-56    NaN\n",
      "-55    NaN\n",
      "-54    NaN\n",
      "-53    NaN\n",
      "-52    NaN\n",
      "-51    NaN\n",
      "-50    NaN\n",
      "-49    NaN\n",
      "-48    NaN\n",
      "-47    NaN\n",
      "-46    NaN\n",
      "-45    NaN\n",
      "-44    NaN\n",
      "-43    NaN\n",
      "-42    NaN\n",
      "-41    NaN\n",
      "-40    NaN\n",
      "-39    NaN\n",
      "-38    NaN\n",
      "-37    NaN\n",
      "-36    NaN\n",
      "-35    NaN\n",
      "-34    NaN\n",
      "-33    NaN\n",
      "-32    NaN\n",
      "-31    NaN\n",
      "-30    NaN\n",
      "-29    NaN\n",
      "-28    NaN\n",
      "-27    NaN\n",
      "-26    NaN\n",
      "-25    NaN\n",
      "-24    NaN\n",
      "-23    NaN\n",
      "-22    NaN\n",
      "-21    NaN\n",
      "-20    NaN\n",
      "-19    NaN\n",
      "-18    NaN\n",
      "-17    NaN\n",
      "-16    NaN\n",
      "-15      X\n",
      "Name: 5008804, dtype: object\n",
      "-14 MONTHS_BALANCE\n",
      "-60    NaN\n",
      "-59    NaN\n",
      "-58    NaN\n",
      "-57    NaN\n",
      "-56    NaN\n",
      "-55    NaN\n",
      "-54    NaN\n",
      "-53    NaN\n",
      "-52    NaN\n",
      "-51    NaN\n",
      "-50    NaN\n",
      "-49    NaN\n",
      "-48    NaN\n",
      "-47    NaN\n",
      "-46    NaN\n",
      "-45    NaN\n",
      "-44    NaN\n",
      "-43    NaN\n",
      "-42    NaN\n",
      "-41    NaN\n",
      "-40    NaN\n",
      "-39    NaN\n",
      "-38    NaN\n",
      "-37    NaN\n",
      "-36    NaN\n",
      "-35    NaN\n",
      "-34    NaN\n",
      "-33    NaN\n",
      "-32    NaN\n",
      "-31    NaN\n",
      "-30    NaN\n",
      "-29    NaN\n",
      "-28    NaN\n",
      "-27    NaN\n",
      "-26    NaN\n",
      "-25    NaN\n",
      "-24    NaN\n",
      "-23    NaN\n",
      "-22    NaN\n",
      "-21    NaN\n",
      "-20    NaN\n",
      "-19    NaN\n",
      "-18    NaN\n",
      "-17    NaN\n",
      "-16    NaN\n",
      "-15    NaN\n",
      "-14      X\n",
      "Name: 5008805, dtype: object\n",
      "-26 MONTHS_BALANCE\n",
      "-60    NaN\n",
      "-59    NaN\n",
      "-58    NaN\n",
      "-57    NaN\n",
      "-56    NaN\n",
      "-55    NaN\n",
      "-54    NaN\n",
      "-53    NaN\n",
      "-52    NaN\n",
      "-51    NaN\n",
      "-50    NaN\n",
      "-49    NaN\n",
      "-48    NaN\n",
      "-47    NaN\n",
      "-46    NaN\n",
      "-45    NaN\n",
      "-44    NaN\n",
      "-43    NaN\n",
      "-42    NaN\n",
      "-41    NaN\n",
      "-40    NaN\n",
      "-39    NaN\n",
      "-38    NaN\n",
      "-37    NaN\n",
      "-36    NaN\n",
      "-35    NaN\n",
      "-34    NaN\n",
      "-33    NaN\n",
      "-32    NaN\n",
      "-31    NaN\n",
      "-30    NaN\n",
      "-29    NaN\n",
      "-28    NaN\n",
      "-27    NaN\n",
      "-26      X\n",
      "Name: 5008809, dtype: object\n",
      "-28 MONTHS_BALANCE\n",
      "-60    NaN\n",
      "-59    NaN\n",
      "-58    NaN\n",
      "-57    NaN\n",
      "-56    NaN\n",
      "-55    NaN\n",
      "-54    NaN\n",
      "-53    NaN\n",
      "-52    NaN\n",
      "-51    NaN\n",
      "-50    NaN\n",
      "-49    NaN\n",
      "-48    NaN\n",
      "-47    NaN\n",
      "-46    NaN\n",
      "-45    NaN\n",
      "-44    NaN\n",
      "-43    NaN\n",
      "-42    NaN\n",
      "-41    NaN\n",
      "-40    NaN\n",
      "-39    NaN\n",
      "-38    NaN\n",
      "-37    NaN\n",
      "-36    NaN\n",
      "-35    NaN\n",
      "-34    NaN\n",
      "-33    NaN\n",
      "-32    NaN\n",
      "-31    NaN\n",
      "-30    NaN\n",
      "-29    NaN\n",
      "-28      0\n",
      "Name: 5150482, dtype: object\n",
      "-12 MONTHS_BALANCE\n",
      "-60    NaN\n",
      "-59    NaN\n",
      "-58    NaN\n",
      "-57    NaN\n",
      "-56    NaN\n",
      "-55    NaN\n",
      "-54    NaN\n",
      "-53    NaN\n",
      "-52    NaN\n",
      "-51    NaN\n",
      "-50    NaN\n",
      "-49    NaN\n",
      "-48    NaN\n",
      "-47    NaN\n",
      "-46    NaN\n",
      "-45    NaN\n",
      "-44    NaN\n",
      "-43    NaN\n",
      "-42    NaN\n",
      "-41    NaN\n",
      "-40    NaN\n",
      "-39    NaN\n",
      "-38    NaN\n",
      "-37    NaN\n",
      "-36    NaN\n",
      "-35    NaN\n",
      "-34    NaN\n",
      "-33    NaN\n",
      "-32    NaN\n",
      "-31    NaN\n",
      "-30    NaN\n",
      "-29    NaN\n",
      "-28    NaN\n",
      "-27    NaN\n",
      "-26    NaN\n",
      "-25    NaN\n",
      "-24    NaN\n",
      "-23    NaN\n",
      "-22    NaN\n",
      "-21    NaN\n",
      "-20    NaN\n",
      "-19    NaN\n",
      "-18    NaN\n",
      "-17    NaN\n",
      "-16    NaN\n",
      "-15    NaN\n",
      "-14    NaN\n",
      "-13    NaN\n",
      "-12      0\n",
      "Name: 5150484, dtype: object\n",
      "-29 MONTHS_BALANCE\n",
      "-60    NaN\n",
      "-59    NaN\n",
      "-58    NaN\n",
      "-57    NaN\n",
      "-56    NaN\n",
      "-55    NaN\n",
      "-54    NaN\n",
      "-53    NaN\n",
      "-52    NaN\n",
      "-51    NaN\n",
      "-50    NaN\n",
      "-49    NaN\n",
      "-48    NaN\n",
      "-47    NaN\n",
      "-46    NaN\n",
      "-45    NaN\n",
      "-44    NaN\n",
      "-43    NaN\n",
      "-42    NaN\n",
      "-41    NaN\n",
      "-40    NaN\n",
      "-39    NaN\n",
      "-38    NaN\n",
      "-37    NaN\n",
      "-36    NaN\n",
      "-35    NaN\n",
      "-34    NaN\n",
      "-33    NaN\n",
      "-32    NaN\n",
      "-31    NaN\n",
      "-30    NaN\n",
      "-29      C\n",
      "Name: 5150487, dtype: object\n"
     ]
    }
   ],
   "source": [
    "def OpenMonth(ID):\n",
    "    '''Given an ID in the credit_pivot dataframe, return the month the account was opened.'''\n",
    "    ID_Balance = credit_pivot.loc[ID]\n",
    "    \n",
    "    return ID_Balance.first_valid_index()\n",
    "\n",
    "#Test\n",
    "\n",
    "for i in [5008804, 5008805, 5008809, 5150482, 5150484, 5150487]:\n",
    "    print(OpenMonth(i), credit_pivot.loc[i, range(-60, OpenMonth(i)+1)])\n",
    "\n"
   ]
  },
  {
   "cell_type": "code",
   "execution_count": 500,
   "id": "3eae0f2c",
   "metadata": {},
   "outputs": [
    {
     "name": "stdout",
     "output_type": "stream",
     "text": [
      "0 MONTHS_BALANCE\n",
      "0    C\n",
      "Name: 5008804, dtype: object\n",
      "0 MONTHS_BALANCE\n",
      "0    C\n",
      "Name: 5008805, dtype: object\n",
      "-22 MONTHS_BALANCE\n",
      "-22      X\n",
      "-21    NaN\n",
      "-20    NaN\n",
      "-19    NaN\n",
      "-18    NaN\n",
      "-17    NaN\n",
      "-16    NaN\n",
      "-15    NaN\n",
      "-14    NaN\n",
      "-13    NaN\n",
      "-12    NaN\n",
      "-11    NaN\n",
      "-10    NaN\n",
      "-9     NaN\n",
      "-8     NaN\n",
      "-7     NaN\n",
      "-6     NaN\n",
      "-5     NaN\n",
      "-4     NaN\n",
      "-3     NaN\n",
      "-2     NaN\n",
      "-1     NaN\n",
      " 0     NaN\n",
      "Name: 5008809, dtype: object\n",
      "-11 MONTHS_BALANCE\n",
      "-11      C\n",
      "-10    NaN\n",
      "-9     NaN\n",
      "-8     NaN\n",
      "-7     NaN\n",
      "-6     NaN\n",
      "-5     NaN\n",
      "-4     NaN\n",
      "-3     NaN\n",
      "-2     NaN\n",
      "-1     NaN\n",
      " 0     NaN\n",
      "Name: 5150482, dtype: object\n",
      "0 MONTHS_BALANCE\n",
      "0    C\n",
      "Name: 5150484, dtype: object\n",
      "0 MONTHS_BALANCE\n",
      "0    C\n",
      "Name: 5150487, dtype: object\n"
     ]
    }
   ],
   "source": [
    "def CloseMonth(ID):\n",
    "    '''Given an ID in the credit_pivot_dataframe, return the month the account was closed, or 0\n",
    "        if the account did not close.'''\n",
    "    ID_Balance = credit_pivot.loc[ID]\n",
    "    return ID_Balance.last_valid_index()\n",
    "\n",
    "#Test\n",
    "\n",
    "for i in [5008804, 5008805, 5008809, 5150482, 5150484, 5150487]:\n",
    "    print(CloseMonth(i), credit_pivot.loc[i, range(CloseMonth(i), 1)])"
   ]
  },
  {
   "cell_type": "code",
   "execution_count": 501,
   "id": "d0883de2",
   "metadata": {},
   "outputs": [],
   "source": [
    "def MonthsOpen(ID):\n",
    "    '''Given an ID in the credit dataframe, return the number of months the account was open during the measured window.'''\n",
    "    return CloseMonth(ID)-OpenMonth(ID)"
   ]
  },
  {
   "cell_type": "markdown",
   "id": "397c82d3",
   "metadata": {},
   "source": [
    "Let's add this information to our dataframe."
   ]
  },
  {
   "cell_type": "code",
   "execution_count": 525,
   "id": "67ea45eb",
   "metadata": {},
   "outputs": [],
   "source": [
    "account_series = credit_pivot.index.to_series()\n",
    "\n",
    "credit_with_months = credit_pivot.copy()\n",
    "credit_with_months[\"Opening_Month\"] = account_series.apply(OpenMonth)\n",
    "credit_with_months[\"Closing_Month\"] = account_series.apply(CloseMonth)\n",
    "credit_with_months[\"Account_Life\"] = account_series.apply(MonthsOpen)"
   ]
  },
  {
   "cell_type": "code",
   "execution_count": 526,
   "id": "47b55a60",
   "metadata": {},
   "outputs": [
    {
     "name": "stdout",
     "output_type": "stream",
     "text": [
      "MONTHS_BALANCE  -60  -59  -58  -57  -56  -55  -54  -53  -52  -51  ...   -6  \\\n",
      "ID                                                                ...        \n",
      "5008804         NaN  NaN  NaN  NaN  NaN  NaN  NaN  NaN  NaN  NaN  ...    C   \n",
      "5008805         NaN  NaN  NaN  NaN  NaN  NaN  NaN  NaN  NaN  NaN  ...    C   \n",
      "5008806         NaN  NaN  NaN  NaN  NaN  NaN  NaN  NaN  NaN  NaN  ...    C   \n",
      "5008808         NaN  NaN  NaN  NaN  NaN  NaN  NaN  NaN  NaN  NaN  ...  NaN   \n",
      "5008809         NaN  NaN  NaN  NaN  NaN  NaN  NaN  NaN  NaN  NaN  ...  NaN   \n",
      "...             ...  ...  ...  ...  ...  ...  ...  ...  ...  ...  ...  ...   \n",
      "5150482         NaN  NaN  NaN  NaN  NaN  NaN  NaN  NaN  NaN  NaN  ...  NaN   \n",
      "5150483         NaN  NaN  NaN  NaN  NaN  NaN  NaN  NaN  NaN  NaN  ...    X   \n",
      "5150484         NaN  NaN  NaN  NaN  NaN  NaN  NaN  NaN  NaN  NaN  ...    0   \n",
      "5150485         NaN  NaN  NaN  NaN  NaN  NaN  NaN  NaN  NaN  NaN  ...  NaN   \n",
      "5150487         NaN  NaN  NaN  NaN  NaN  NaN  NaN  NaN  NaN  NaN  ...    C   \n",
      "\n",
      "MONTHS_BALANCE   -5   -4   -3   -2   -1    0 Opening_Month Closing_Month  \\\n",
      "ID                                                                         \n",
      "5008804           C    C    C    C    C    C           -15             0   \n",
      "5008805           C    C    C    C    C    C           -14             0   \n",
      "5008806           C    C    C    C    C    C           -29             0   \n",
      "5008808         NaN    X    X    0    X    0            -4             0   \n",
      "5008809         NaN  NaN  NaN  NaN  NaN  NaN           -26           -22   \n",
      "...             ...  ...  ...  ...  ...  ...           ...           ...   \n",
      "5150482         NaN  NaN  NaN  NaN  NaN  NaN           -28           -11   \n",
      "5150483           X    X    X    X    X    X           -17             0   \n",
      "5150484           0    0    0    0    0    C           -12             0   \n",
      "5150485         NaN  NaN  NaN  NaN    0    0            -1             0   \n",
      "5150487           C    C    C    C    C    C           -29             0   \n",
      "\n",
      "MONTHS_BALANCE Account_Life  \n",
      "ID                           \n",
      "5008804                  15  \n",
      "5008805                  14  \n",
      "5008806                  29  \n",
      "5008808                   4  \n",
      "5008809                   4  \n",
      "...                     ...  \n",
      "5150482                  17  \n",
      "5150483                  17  \n",
      "5150484                  12  \n",
      "5150485                   1  \n",
      "5150487                  29  \n",
      "\n",
      "[36457 rows x 64 columns]\n"
     ]
    }
   ],
   "source": [
    "print(credit_with_months)"
   ]
  },
  {
   "cell_type": "markdown",
   "id": "abd90ba4",
   "metadata": {},
   "source": [
    "To construct our labels, we will define some auxiliary functions. "
   ]
  },
  {
   "cell_type": "code",
   "execution_count": null,
   "id": "624bb150",
   "metadata": {},
   "outputs": [],
   "source": []
  }
 ],
 "metadata": {
  "kernelspec": {
   "display_name": "Python 3",
   "language": "python",
   "name": "python3"
  },
  "language_info": {
   "codemirror_mode": {
    "name": "ipython",
    "version": 3
   },
   "file_extension": ".py",
   "mimetype": "text/x-python",
   "name": "python",
   "nbconvert_exporter": "python",
   "pygments_lexer": "ipython3",
   "version": "3.8.8"
  }
 },
 "nbformat": 4,
 "nbformat_minor": 5
}
